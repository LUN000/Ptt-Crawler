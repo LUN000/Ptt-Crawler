{
 "cells": [
  {
   "cell_type": "code",
   "execution_count": 118,
   "id": "former-validity",
   "metadata": {},
   "outputs": [
    {
     "name": "stdout",
     "output_type": "stream",
     "text": [
      "用PTT搜尋作者抓發文標題、日期、推數、連結\n",
      "查詢頁數: 10\n",
      "ID:leelee688\n"
     ]
    },
    {
     "name": "stderr",
     "output_type": "stream",
     "text": [
      "第9頁: 100%|███████████████████████████████████████████████████████████████████████████| 10/10 [00:17<00:00,  1.73s/it]s]"
     ]
    },
    {
     "name": "stdout",
     "output_type": "stream",
     "text": [
      "結束\n"
     ]
    },
    {
     "name": "stderr",
     "output_type": "stream",
     "text": [
      "\n"
     ]
    }
   ],
   "source": [
    "import numpy as np\n",
    "import requests \n",
    "from bs4 import BeautifulSoup\n",
    "import pandas as pd \n",
    "import re\n",
    "from tqdm import tqdm\n",
    "\n",
    "print(\"用PTT搜尋作者抓發文標題、日期、推數、連結\")\n",
    "pages = int(input(\"查詢頁數: \"))\n",
    "ID = input(\"ID:\")\n",
    "\n",
    "url = f\"https://www.pttweb.cc/user/{ID}?t=article\"\n",
    "titles,dates,pushs,links =[],[],[],[]\n",
    "\n",
    "def Title(soup):\n",
    "    title = soup.find_all(class_='thread-title')\n",
    "    for t in title:\n",
    "        titles.append(t.text.strip(\"\\n\"))\n",
    "def Dates(soup):\n",
    "    date = soup.find_all(class_='thread-list-author')\n",
    "    for d in date:\n",
    "        d=d.find(class_='thread-posttime')\n",
    "        dates.append(d.text)\n",
    "def Push(soup):\n",
    "    push = soup.find_all(class_=\"thread-popularity px-2\")\n",
    "    for p in push:\n",
    "        pushs.append(p.text.split(\" \")[-1])\n",
    "def Link(soup):\n",
    "    link = soup.find_all(class_='e7-left')\n",
    "    for lin in link:\n",
    "        l = lin.find_all('a')[0]\n",
    "        links.append('https://www.ptt.cc'+l.get('href'))\n",
    "           \n",
    "\n",
    "bar = tqdm(range(pages))    \n",
    "for page in bar :\n",
    "    try:\n",
    "        bar.set_description(f'第{page}頁')\n",
    "        result = requests.get(url)\n",
    "        soup = BeautifulSoup(result.text,'html.parser')\n",
    "        Title(soup)\n",
    "        Dates(soup)\n",
    "        Link(soup)\n",
    "        Push(soup)\n",
    "        \n",
    "        next_page_url = f'https://www.pttweb.cc/user/{ID}?t=article&page={page+1}'\n",
    "        url = next_page_url\n",
    "    except:\n",
    "        print('End')\n",
    "        break\n",
    "    \n",
    "data = {'日期':dates,\n",
    "        '標題':titles,\n",
    "        '推數':pushs,\n",
    "        '連結':links,\n",
    "       }\n",
    "\n",
    "data = pd.DataFrame(data)\n",
    "data.to_csv(f'作者_{ID}.csv',encoding='utf-8-sig')\n",
    "print('結束')\n"
   ]
  }
 ],
 "metadata": {
  "kernelspec": {
   "display_name": "Python 3",
   "language": "python",
   "name": "python3"
  },
  "language_info": {
   "codemirror_mode": {
    "name": "ipython",
    "version": 3
   },
   "file_extension": ".py",
   "mimetype": "text/x-python",
   "name": "python",
   "nbconvert_exporter": "python",
   "pygments_lexer": "ipython3",
   "version": "3.7.7"
  }
 },
 "nbformat": 4,
 "nbformat_minor": 5
}
