{
 "cells": [
  {
   "cell_type": "markdown",
   "id": "opposite-maintenance",
   "metadata": {},
   "source": [
    "# 用PTT搜尋功能抓標題、作者、日期、推數、連結"
   ]
  },
  {
   "cell_type": "code",
   "execution_count": 13,
   "id": "australian-documentary",
   "metadata": {},
   "outputs": [],
   "source": [
    "import numpy as np\n",
    "import requests \n",
    "from bs4 import BeautifulSoup\n",
    "import pandas as pd \n",
    "import re\n",
    "from tqdm import tqdm"
   ]
  },
  {
   "cell_type": "code",
   "execution_count": 14,
   "id": "entire-miracle",
   "metadata": {},
   "outputs": [
    {
     "name": "stdout",
     "output_type": "stream",
     "text": [
      "查詢頁數: 20\n",
      "關鍵字貓頭鷹\n"
     ]
    }
   ],
   "source": [
    "pages = int(input(\"查詢頁數: \"))\n",
    "key = input(\"關鍵字\")"
   ]
  },
  {
   "cell_type": "code",
   "execution_count": 15,
   "id": "incorporate-story",
   "metadata": {},
   "outputs": [
    {
     "name": "stderr",
     "output_type": "stream",
     "text": [
      "第2頁:   5%|███▊                                                                        | 1/20 [00:00<00:14,  1.28it/s]s]"
     ]
    },
    {
     "name": "stdout",
     "output_type": "stream",
     "text": [
      "End\n"
     ]
    },
    {
     "name": "stderr",
     "output_type": "stream",
     "text": [
      "\n"
     ]
    }
   ],
   "source": [
    "url = f\"https://www.ptt.cc/bbs/C_Chat/search?q={key}\"\n",
    "titles,dates,pushs,links,authors =[],[],[],[],[]\n",
    "\n",
    "def Title(soup):\n",
    "    title = soup.find_all(class_='title')\n",
    "    for t in title:\n",
    "        titles.append(t.text.strip(\"\\n\"))\n",
    "def Dates(soup):\n",
    "    date = soup.find_all(class_='date')\n",
    "    for d in date:\n",
    "        dates.append(d.text)\n",
    "def Push(soup):\n",
    "    push = soup.find_all(class_=\"nrec\")\n",
    "    for p in push:\n",
    "        pushs.append(p.text) if p != '' else  push.append(0)\n",
    "def Link(soup):\n",
    "    link = soup.find_all(class_='title')\n",
    "    for lin in link:\n",
    "        li = lin.find_all('a')\n",
    "        for l in li: \n",
    "            links.append('https://www.ptt.cc'+l.get('href'))\n",
    "def Author(soup):\n",
    "    author = soup.find_all(class_='author')\n",
    "    for a in author:\n",
    "        authors.append(a.text)\n",
    "            \n",
    "bar = tqdm(range(pages))    \n",
    "for page in bar :\n",
    "    bar.set_description(f'第{page+1}頁')\n",
    "    result = requests.get(url)\n",
    "    soup = BeautifulSoup(result.text,'html.parser')\n",
    "    Title(soup)\n",
    "    Dates(soup)\n",
    "    Link(soup)\n",
    "    Push(soup)\n",
    "    Author(soup)\n",
    "    \n",
    "    try:\n",
    "        btn = soup.select('div.btn-group > a')\n",
    "        up_page_href = btn[3]['href']\n",
    "        next_page_url = 'https://www.ptt.cc' + up_page_href\n",
    "        url = next_page_url\n",
    "    except:\n",
    "        print('End')\n",
    "        break\n",
    "    \n",
    "data = {'日期':dates,\n",
    "        '作者':authors,\n",
    "        '標題':titles,\n",
    "        '推數':pushs,\n",
    "        '連結':links,\n",
    "       }\n",
    "\n",
    "data = pd.DataFrame(data)\n",
    "data.to_csv(f'關鍵字_{key}.csv',encoding='utf-8-sig')"
   ]
  }
 ],
 "metadata": {
  "kernelspec": {
   "display_name": "Python 3",
   "language": "python",
   "name": "python3"
  },
  "language_info": {
   "codemirror_mode": {
    "name": "ipython",
    "version": 3
   },
   "file_extension": ".py",
   "mimetype": "text/x-python",
   "name": "python",
   "nbconvert_exporter": "python",
   "pygments_lexer": "ipython3",
   "version": "3.7.7"
  }
 },
 "nbformat": 4,
 "nbformat_minor": 5
}
